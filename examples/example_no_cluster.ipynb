{
 "cells": [
  {
   "cell_type": "code",
   "execution_count": null,
   "metadata": {},
   "outputs": [],
   "source": [
    "from functions import *\n",
    "import multiprocessing\n",
    "import pandas as pd\n",
    "from sklearn.preprocessing import MinMaxScaler"
   ]
  },
  {
   "cell_type": "code",
   "execution_count": null,
   "metadata": {},
   "outputs": [],
   "source": [
    "# example for uniform distribution and assignment\n",
    "X_train_cancer = pd.read_csv(\"breast_cancer_train_copy.csv\")\n",
    "X_test_cancer = pd.read_csv(\"breast_cancer_test_copy.csv\")\n",
    "scaler = MinMaxScaler()\n",
    "\n",
    "columns_to_scale_c = X_train_cancer.columns.drop(\"target\")\n",
    "X_train_cancer[columns_to_scale_c] = scaler.fit_transform(X_train_cancer[columns_to_scale_c])\n",
    "X_test_cancer[columns_to_scale_c] = scaler.fit_transform(X_test_cancer[columns_to_scale_c])\n",
    "\n",
    "# multiply inputs by number of runs if you want more trials\n",
    "input1 = [(X_train_cancer, X_test_cancer, 100, 3, 1, 1, 0,\"uniform\",\"uniform\",\"LR_3_CANCER_EXAMPLE.csv\",\"log_reg\",\"cancer\")]\n",
    "input2 = [(X_train_cancer, X_test_cancer, 100, 3, 1, 1, 0, \"uniform\",\"uniform\",\"KDE_3_CANCER_EXAMPLE.csv\",\"kde\",\"cancer\")]\n",
    "input3 = [(X_train_cancer, X_test_cancer, 100, 6, 1, 1, 0,\"uniform\",\"uniform\",\"LR_6_CANCER_EXAMPLE.csv\",\"log_reg\",\"cancer\")]\n",
    "input4= [(X_train_cancer, X_test_cancer, 100, 6, 1, 1, 0, \"uniform\",\"uniform\",\"KDE_6_CANCER_EXAMPLE.csv\",\"kde\",\"cancer\")]\n",
    "\n",
    "input_uniform = [*input1, *input2, *input3, *input4]\n",
    "pool = multiprocessing.Pool(multiprocessing.cpu_count())\n",
    "results_uniform = pool.map(wrap_testBatchCF, input_uniform)"
   ]
  },
  {
   "cell_type": "code",
   "execution_count": null,
   "metadata": {},
   "outputs": [],
   "source": [
    "# example for zipfian distribution and assignment\n",
    "\n",
    "# scale of data owner sizes\n",
    "sizes1 = [3**5, 3**4, 3**2, 3**1, 3**0]\n",
    "sizes2 = [3**5, 3**4, 3**2, 3**1, 3**0]\n",
    "\n",
    "input_zipfian = []\n",
    "\n",
    "for s in sizes1:\n",
    "    A_size = s\n",
    "    for s in sizes2:\n",
    "        B_size = s\n",
    "        # multiply input by number of runs\n",
    "        input = [(X_train_cancer, X_test_cancer, A_size, B_size, 9, \"uniform\", \"zipfian\", \"kde\",\"cancer\", \"ZIPFIAN_EXAMPLE.csv\")]\n",
    "        input_zipfian.extend([*input])\n",
    "\n",
    "results_zipfian = pool.map(wrap_testBatchCF, input_zipfian)"
   ]
  },
  {
   "cell_type": "code",
   "execution_count": null,
   "metadata": {},
   "outputs": [],
   "source": [
    "# example for using using a natural dataset distribution and assignment\n",
    "\n",
    "X_train_res = pd.read_csv(\"reservation_train.csv\")\n",
    "X_test_res = pd.read_csv(\"reservation_test.csv\")\n",
    "\n",
    "unique_categories = X_train_res[\"arrival_month\"].unique()\n",
    "\n",
    "input_natural = []\n",
    "\n",
    "for i in range(len(unique_categories)):\n",
    "    for j in range(len(unique_categories)):\n",
    "        if (i != j):\n",
    "            A = i\n",
    "            B = j\n",
    "            # multiply input by number of runs\n",
    "            input = [(X_train_res, X_test_res, \"arrival_month\", i, j, X_train_res, X_test_res, \"clustered\", \"zipfian\", \"log_reg\",\"reservations\", \"NATURAL_EXAMPLE.csv\", i)]\n",
    "            input_natural.extend([*input])\n",
    "\n",
    "pool = multiprocessing.Pool(multiprocessing.cpu_count())\n",
    "results_natural = pool.map(wrap_compareNatural, input_natural)\n"
   ]
  }
 ],
 "metadata": {
  "language_info": {
   "name": "python"
  }
 },
 "nbformat": 4,
 "nbformat_minor": 2
}
